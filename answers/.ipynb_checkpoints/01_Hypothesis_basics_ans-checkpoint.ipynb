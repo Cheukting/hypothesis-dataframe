{
 "cells": [
  {
   "cell_type": "markdown",
   "id": "063f6ebd-9b71-4f9c-b3a2-1aa912c403fd",
   "metadata": {},
   "source": [
    "# Hypothesis basics - how to write tests\n",
    "\n",
    "## Getting started\n",
    "\n",
    "In this session, we are going to start writing some tests using Hypothesis. To have the convenience of running tests in Jupyter notebook. We use [ipytest](https://github.com/chmp/ipytest) to do that."
   ]
  },
  {
   "cell_type": "code",
   "execution_count": null,
   "id": "344fa11e-065b-4dd8-a5c9-5210c62399be",
   "metadata": {},
   "outputs": [],
   "source": [
    "import ipytest\n",
    "\n",
    "ipytest.autoconfig()"
   ]
  },
  {
   "cell_type": "markdown",
   "id": "67586aeb-d732-4f01-bf37-650d6a04c537",
   "metadata": {},
   "source": [
    "As an simple example, this is how an exercises looks like. Can you finish this simple exercise?"
   ]
  },
  {
   "cell_type": "code",
   "execution_count": null,
   "id": "1016aebf-7a82-47b5-bf5a-9c82432c47ae",
   "metadata": {},
   "outputs": [],
   "source": [
    "%%ipytest\n",
    "\n",
    "# write a test adding two integers\n",
    "def add_two(a: int, b: int) -> int:\n",
    "    return a+b  # TODO: return the correct value so it passes\n",
    "\n",
    "# write a simple test for the function\n",
    "def test_add_two():\n",
    "    assert add_two(1,2) == 3  # TODO: write the correct assert statement, choose any 2 numbers to test"
   ]
  },
  {
   "cell_type": "markdown",
   "id": "e711e12d-a980-41e9-90bf-aca5703f6b8b",
   "metadata": {},
   "source": [
    "Now can you write a test using Hypothesis's `given` and [`st.integers`](https://hypothesis.readthedocs.io/en/latest/data.html#hypothesis.strategies.integers) (ignore any warnings)"
   ]
  },
  {
   "cell_type": "code",
   "execution_count": null,
   "id": "ef127e8c-7e56-45d9-80b2-e1b9b09d329a",
   "metadata": {},
   "outputs": [],
   "source": [
    "%%ipytest\n",
    "\n",
    "# TODO: import `given` and `strategies` as st\n",
    "from hypothesis import given, strategies as st\n",
    "\n",
    "# write a test adding two integers\n",
    "def add_two(a: int, b: int) -> int:\n",
    "    return a+b  # TODO: return the correct value so it passes\n",
    "\n",
    "# write a property-based test for the function\n",
    "# TODO: use the decorator `given` with proper strategies\n",
    "@given(st.integers(), st.integers())\n",
    "def test_add_two(a, b): # TODO: remember to use the strategies\n",
    "    assert add_two(a,b) == a+b  # TODO: write the correct assert statement"
   ]
  },
  {
   "cell_type": "markdown",
   "id": "d8500783-3d5c-47f3-8660-39ec9b1ef566",
   "metadata": {},
   "source": [
    "Next, let's make a function that takes a list of integers and add them up."
   ]
  },
  {
   "cell_type": "code",
   "execution_count": null,
   "id": "4d1471b9-396c-42a5-b9c6-a49fc4abc048",
   "metadata": {},
   "outputs": [],
   "source": [
    "%%ipytest\n",
    "\n",
    "from typing import List\n",
    "\n",
    "# write a test adding a list of integers\n",
    "def add_list(nums: List[int]) -> int:\n",
    "    return sum(nums)  # TODO: return the correct value so it passes\n",
    "\n",
    "# write a property-based test for the function\n",
    "# TODO: use the decorator `given` with proper strategies\n",
    "@given(st.lists(st.integers()))\n",
    "def test_list(nums): # TODO: remember to use the strategies\n",
    "    assert add_list(nums) == sum(nums)  # TODO: write the correct assert statement"
   ]
  },
  {
   "cell_type": "markdown",
   "id": "a732cad7-22d7-4fec-ac5a-d87cec6e8354",
   "metadata": {},
   "source": [
    "## Strategies\n",
    "\n",
    "Strategies are what make Hypothesis so powerful, it generates the testing examples for us and has the [shrinking logics](https://hypothesis.readthedocs.io/en/latest/data.html#shrinking) to keep the example simple. Writing strategies in property-based testing is not a simple task but luckily we have a lot of [strategies available](https://hypothesis.readthedocs.io/en/latest/data.html#) in hypothesis."
   ]
  },
  {
   "cell_type": "code",
   "execution_count": null,
   "id": "24ebc1e8-6868-4d7c-9013-34e6858f5009",
   "metadata": {},
   "outputs": [],
   "source": [
    "# Look at an example of a strategy\n",
    "my_st = st.integers()\n",
    "my_st.example()"
   ]
  },
  {
   "cell_type": "code",
   "execution_count": null,
   "id": "0d938ce9-8ee2-4a18-900d-67fbd80e4727",
   "metadata": {},
   "outputs": [],
   "source": [
    "# TODO: pick a few strategies from this list (https://hypothesis.readthedocs.io/en/latest/data.html) and look at the example\n",
    "my_st = st.decimals()\n",
    "print(my_st.example())\n",
    "\n",
    "my_st = st.text()\n",
    "print(my_st.example())\n",
    "\n",
    "my_st = st.dates()\n",
    "print(my_st.example())"
   ]
  },
  {
   "cell_type": "markdown",
   "id": "f354eeb6-ed22-4695-a0c7-79a323e807f6",
   "metadata": {},
   "source": [
    "## Catching the edge\n",
    "\n",
    "But having no fails is not fun. Now we see how Hypothesis can catch an edge case"
   ]
  },
  {
   "cell_type": "code",
   "execution_count": null,
   "id": "97bfc0c4-9c6b-492e-8573-862571a20136",
   "metadata": {},
   "outputs": [],
   "source": [
    "%%ipytest\n",
    "\n",
    "# functions that encode and decode a string \n",
    "# example from https://hypothesis.readthedocs.io/en/latest/data.html#hypothesis.strategies.integers\n",
    "def encode(input_string):\n",
    "    if input_string == \"\":\n",
    "        return \"\"\n",
    "    count = 1\n",
    "    prev = \"\"\n",
    "    lst = []\n",
    "    for character in input_string:\n",
    "        if character != prev:\n",
    "            if prev:\n",
    "                entry = (prev, count)\n",
    "                lst.append(entry)\n",
    "            count = 1\n",
    "            prev = character\n",
    "        else:\n",
    "            count += 1\n",
    "    entry = (character, count)\n",
    "    lst.append(entry)\n",
    "    return lst\n",
    "\n",
    "\n",
    "def decode(lst):\n",
    "    q = \"\"\n",
    "    for character, count in lst:\n",
    "        q += character * count\n",
    "    return q\n",
    "\n",
    "# TODO: write a property-based test for both function\n",
    "\n",
    "@given(st.text())\n",
    "def test_decode_inverts_encode(s):\n",
    "    assert decode(encode(s)) == s"
   ]
  },
  {
   "cell_type": "markdown",
   "id": "36ae953b-2a56-4f59-add7-5d19090c001d",
   "metadata": {},
   "source": [
    "Ah it failed... can you identify in which case it fails? Can you fix it so the test passes?\n",
    "\n",
    "Since it failed, we would like to make sure Hypothesis will always test that case in the future as it is an edge case that someone may forget about. To do that, we will use [`example`](https://hypothesis.readthedocs.io/en/latest/reproducing.html#hypothesis.example)"
   ]
  },
  {
   "cell_type": "code",
   "execution_count": null,
   "id": "8649828a-ec94-494d-9daa-f41599a9dabe",
   "metadata": {},
   "outputs": [],
   "source": [
    "%%ipytest\n",
    "\n",
    "# TODO: import `example`\n",
    "from hypothesis import example\n",
    "\n",
    "@given(st.text())\n",
    "# TODO: pin the case that failed\n",
    "@example(\"\")\n",
    "# TODO: copy your test here\n",
    "def test_decode_inverts_encode(s):\n",
    "    assert decode(encode(s)) == s"
   ]
  },
  {
   "cell_type": "markdown",
   "id": "10e9cecf-3365-4a25-bcae-a677e8571205",
   "metadata": {},
   "source": [
    "## Customize strategies\n",
    "\n",
    "Now go back to the adding number function `add_two` we are going to do something differnt. Instead of taking two integers, we will try tp take two integers as strings."
   ]
  },
  {
   "cell_type": "code",
   "execution_count": null,
   "id": "98f63b3e-99ed-4605-96c4-df77b2fc5182",
   "metadata": {},
   "outputs": [],
   "source": [
    "%%ipytest\n",
    "\n",
    "# write a test adding two integers as strings\n",
    "def add_two(a: str, b: str) -> int:\n",
    "    return int(a)+int(b)  # TODO: return the correct value so it passes\n",
    "\n",
    "# write a property-based test for the function\n",
    "# TODO: use the decorator `given` with proper strategies\n",
    "@given(st.text(), st.text())\n",
    "def test_add_two(a, b): # TODO: remember to use the strategies\n",
    "    assert add_two(a,b) == int(a)+int(b)  # TODO: write the correct assert statement"
   ]
  },
  {
   "cell_type": "markdown",
   "id": "ac30ae05-2207-4fef-ade2-c9580915ca19",
   "metadata": {},
   "source": [
    "There are cases that fails. It is because they cannot be casted as integers. Can you think of a way to limit our strategie to just generate test that are numbers? (hint: you can either use the parameters in [st.text](https://hypothesis.readthedocs.io/en/latest/data.html#hypothesis.strategies.text) or use [st.from_regex](https://hypothesis.readthedocs.io/en/latest/data.html#hypothesis.strategies.from_regex)"
   ]
  },
  {
   "cell_type": "code",
   "execution_count": null,
   "id": "ab30719a-fe6c-459b-b3f3-37a6bf76409d",
   "metadata": {},
   "outputs": [],
   "source": [
    "%%ipytest\n",
    "\n",
    "# write a test adding two integers\n",
    "def add_two(a: str, b: str) -> int:\n",
    "    return int(a)+int(b)  # TODO: return the correct value so it passes\n",
    "\n",
    "# write a property-based test for the function\n",
    "# TODO: use the decorator `given` with proper strategies\n",
    "only_numbers = st.text(alphabet = st.characters(min_codepoint=48, max_codepoint=57), min_size=1)\n",
    "@given(only_numbers, only_numbers)\n",
    "def test_add_two(a, b): # TODO: remember to use the strategies\n",
    "    assert add_two(a,b) == int(a)+int(b)  # TODO: write the correct assert statement"
   ]
  },
  {
   "cell_type": "markdown",
   "id": "c6bd28da-965d-48eb-95f0-f8ec0f0d646d",
   "metadata": {
    "collapsed": true,
    "jupyter": {
     "outputs_hidden": true
    }
   },
   "source": [
    "## Combine strategies\n",
    "\n",
    "Now, we look back to the first function of `add_two`. We should not be limiting the input to two integers, it can be any number. How about we can accept it to be either integer or float? Then we will need to build our own strategies."
   ]
  },
  {
   "cell_type": "code",
   "execution_count": null,
   "id": "5b1fc365-7646-4ec1-9aa6-ee4c9cc49e8d",
   "metadata": {},
   "outputs": [],
   "source": [
    "%%ipytest\n",
    "\n",
    "# write a test adding two integers\n",
    "def add_two(a: int|float, b: int|float) -> int:\n",
    "    return a+b  # TODO: return the correct value so it passes\n",
    "\n",
    "#TODO: write a target function to be used by `st.builds`\n",
    "def int_or_float(integer: int, decimal: float, flag: bool):\n",
    "    if flag:\n",
    "        return integer\n",
    "    else:\n",
    "        return decimal\n",
    "\n",
    "# write property-based tests for the function\n",
    "\n",
    "# TODO: use the decorator `given` with proper strategies\n",
    "number = st.builds(int_or_float, st.integers(), st.decimals(allow_nan=False, allow_infinity=False), st.booleans())\n",
    "@given(number, number)\n",
    "def test_add_two(a, b): # TODO: remember to use the strategies\n",
    "    assert add_two(a,b) == a+b  # TODO: write the correct assert statement\n",
    "\n",
    "# TODO: write another test to test the sum of the even numbers are still even\n",
    "even_num = st.builds(lambda x: x*2, st.integers())\n",
    "@given(even_num, even_num)\n",
    "def test_add_evens(a, b):\n",
    "    assert add_two(a,b)%2 == 0"
   ]
  },
  {
   "cell_type": "markdown",
   "id": "e362238d-f7e6-4737-8492-8b734e27a95e",
   "metadata": {},
   "source": [
    "Now you are familar with writing property based tests with hypothesis. Let's look deeper into how to use the extra feature that hypothesis provides for numpy and pandas."
   ]
  }
 ],
 "metadata": {
  "kernelspec": {
   "display_name": "Python 3 (ipykernel)",
   "language": "python",
   "name": "python3"
  },
  "language_info": {
   "codemirror_mode": {
    "name": "ipython",
    "version": 3
   },
   "file_extension": ".py",
   "mimetype": "text/x-python",
   "name": "python",
   "nbconvert_exporter": "python",
   "pygments_lexer": "ipython3",
   "version": "3.11.1"
  }
 },
 "nbformat": 4,
 "nbformat_minor": 5
}
