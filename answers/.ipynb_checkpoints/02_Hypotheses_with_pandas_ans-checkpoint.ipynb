{
 "cells": [
  {
   "cell_type": "markdown",
   "id": "3545337f-4ab0-4288-a1ab-f44dba4c1cec",
   "metadata": {},
   "source": [
    "# Hypothesis for the scientific stack\n",
    "Hypothesis provides special strategies for scientific stacks like numpy and pandas, available in the `hypothesis[numpy]` extra. Since pandas is consists of numpy arrays\n",
    "\n",
    "![pandas_internal](df_blocks.png)\n",
    "(source: https://www.dataquest.io/blog/pandas-big-data/)\n",
    "\n",
    "we will have a look at some of the numpy and pandas specific strategies. But first, make sure you have the extras available. If not, reinstall the hypothesis with the extras. (not needed if set upusing the `requirements.txt` in this repo)"
   ]
  },
  {
   "cell_type": "code",
   "execution_count": null,
   "id": "2d721227-b699-4408-b411-b873f466da9a",
   "metadata": {},
   "outputs": [],
   "source": [
    "# uncomment the following line and run to reinstall hypothesis\n",
    "# !pip install -U hypothesis[numpy]"
   ]
  },
  {
   "cell_type": "markdown",
   "id": "79070a2a-38a3-4226-b733-5127d43e1bb9",
   "metadata": {},
   "source": [
    "## Generating a numpy array\n",
    "\n",
    "Since a numpy array is not a simple object like integers or text, we need to provide some parameters, as we did with `st.lists` in the last exercise. First of all, we have a look at the documentation of `arrays` strategies:"
   ]
  },
  {
   "cell_type": "code",
   "execution_count": null,
   "id": "14175336-5b08-4ea1-a576-6442c4d7713f",
   "metadata": {},
   "outputs": [],
   "source": [
    "import hypothesis.extra.numpy as npst\n",
    "\n",
    "?npst.arrays"
   ]
  },
  {
   "cell_type": "markdown",
   "id": "5400f73c-5189-43a5-ba86-a993cd00d85d",
   "metadata": {},
   "source": [
    "We will need to provide a `dtype` and a `shape`. Optionally, we can also provide the method how the arrays are generated. This gives us more control or how the arrays generated looks like. Let's try to discorver how we can do that."
   ]
  },
  {
   "cell_type": "code",
   "execution_count": null,
   "id": "a300e57b-3e2a-450c-a786-bee9d3dd8e68",
   "metadata": {},
   "outputs": [],
   "source": [
    "import numpy as np\n",
    "\n",
    "# TODO: generate a 1x10 array with integers\n",
    "\n",
    "npst.arrays(np.int8, 10).example()"
   ]
  },
  {
   "cell_type": "code",
   "execution_count": null,
   "id": "7306732e-5ad0-4209-8928-9cd109e6b445",
   "metadata": {},
   "outputs": [],
   "source": [
    "# TODO: generate a 4x4 array with all unique elements\n",
    "\n",
    "npst.arrays(np.int8, (4,4), unique=True).example()"
   ]
  },
  {
   "cell_type": "code",
   "execution_count": null,
   "id": "18df0600",
   "metadata": {},
   "outputs": [],
   "source": [
    "# TODO: generate a 2D array with random shape\n",
    "\n",
    "npst.arrays(np.int8, npst.array_shapes(min_dims=2, max_dims=2)).example()"
   ]
  },
  {
   "cell_type": "code",
   "execution_count": null,
   "id": "fdeedbe1-3c74-4c9f-b905-6fdb2ad8e070",
   "metadata": {},
   "outputs": [],
   "source": [
    "import hypothesis.strategies as st\n",
    "\n",
    "# TODO: generate a 2x3 array with floats between -1 and 1\n",
    "\n",
    "npst.arrays(np.float32, (2,3), elements=st.floats(-1, 1, width=32)).example()"
   ]
  },
  {
   "cell_type": "code",
   "execution_count": null,
   "id": "5ff92549-b110-482c-8490-cb9895e1c698",
   "metadata": {},
   "outputs": [],
   "source": [
    "# TODO: generate a 8x6 array with only even numbers\n",
    "\n",
    "even_num = st.builds(lambda x: x*2, st.integers(min_value=0, max_value=126/2))\n",
    "npst.arrays(np.int8, (8,6), elements=even_num).example()"
   ]
  },
  {
   "cell_type": "code",
   "execution_count": null,
   "id": "2acccf73-1b21-411c-9854-0b2c461b7b70",
   "metadata": {},
   "outputs": [],
   "source": [
    "# TODO: generate a 8x6 array with only even unique numbers\n",
    "\n",
    "even_num = st.builds(lambda x: x*2, st.integers(min_value=0, max_value=126/2))\n",
    "npst.arrays(np.int8, (8,6), elements=even_num, unique=True).example()"
   ]
  },
  {
   "cell_type": "markdown",
   "id": "58c037ee-b03e-4701-9160-61b5bc67e3e3",
   "metadata": {},
   "source": [
    "You may notice the bigger the array the longer it takes to generate the array. For unique arrays it takes even longer. Do you know why? Have another look at the documentation of `arrays` to understand the generation process.\n",
    "\n",
    "Now, let's test a few of our favourite [Scikit learn preprocessing processes](https://scikit-learn.org/stable/modules/classes.html#module-sklearn.preprocessing)"
   ]
  },
  {
   "cell_type": "code",
   "execution_count": null,
   "id": "f00cadf6-a68b-4a0c-97b6-c77652af333d",
   "metadata": {},
   "outputs": [],
   "source": [
    "import ipytest\n",
    "\n",
    "ipytest.autoconfig()"
   ]
  },
  {
   "cell_type": "code",
   "execution_count": null,
   "id": "d7a1df76-6d4a-421b-b503-968b5a9ceb2d",
   "metadata": {},
   "outputs": [],
   "source": [
    "%%ipytest\n",
    "\n",
    "# TODO: test Normalizer (https://scikit-learn.org/stable/modules/generated/sklearn.preprocessing.Normalizer.html)\n",
    "\n",
    "from sklearn.preprocessing import Normalizer\n",
    "from hypothesis import given\n",
    "\n",
    "@given(npst.arrays(np.int8, npst.array_shapes(min_dims=2, max_dims=2)))\n",
    "def test_normalizer_less_than_1(arr):\n",
    "    transformer = Normalizer().fit(arr)\n",
    "    assert (transformer.transform(arr) <= 1).all()"
   ]
  },
  {
   "cell_type": "code",
   "execution_count": null,
   "id": "6c0ed07d-f627-4b5a-bd35-ccda3f1de9a4",
   "metadata": {},
   "outputs": [],
   "source": [
    "%%ipytest\n",
    "\n",
    "# TODO: test Binarizer (https://scikit-learn.org/stable/modules/generated/sklearn.preprocessing.Binarizer.html)\n",
    "\n",
    "from sklearn.preprocessing import Binarizer\n",
    "\n",
    "@given(npst.arrays(np.int8, npst.array_shapes(min_dims=2, max_dims=2)))\n",
    "def test_binarizer_0_or_1(arr):\n",
    "    transformer = Binarizer().fit(arr)\n",
    "    zero_or_one = lambda x: np.logical_or(x==1, x==0)\n",
    "    assert zero_or_one(transformer.transform(arr)).all()"
   ]
  },
  {
   "cell_type": "markdown",
   "id": "e8cdc359-b945-4f75-b10d-a73c694bbc36",
   "metadata": {},
   "source": [
    "Now, you have learn how to test using arrays, let's move on to learn how to test using pandas dataframes. For more information about using `arrays`, see [hypothesis for numpy](https://hypothesis.readthedocs.io/en/latest/numpy.html#numpy)"
   ]
  },
  {
   "cell_type": "markdown",
   "id": "c229667a-933c-4b81-ad13-a95ddc946854",
   "metadata": {},
   "source": [
    "## Generating a pandas Data Frame\n",
    "\n",
    "Before we dive into how to generate a pandas dataframe, since dataframe is more than one series bundle together, we will first understand how to generate a pandas series"
   ]
  },
  {
   "cell_type": "code",
   "execution_count": null,
   "id": "78f5d2c8-fa38-4be7-a7fb-b8ea7bff61e9",
   "metadata": {},
   "outputs": [],
   "source": [
    "import hypothesis.extra.pandas as pdst\n",
    "\n",
    "?pdst.series"
   ]
  },
  {
   "cell_type": "markdown",
   "id": "ea665c35-d44f-4b8d-80fe-42898eab0bf1",
   "metadata": {},
   "source": [
    "As you can see, the pandas series generation is quite similar to a numpy array, as they both only allows a single dtypes. We will also start by generate some series with our `series` strategies."
   ]
  },
  {
   "cell_type": "code",
   "execution_count": null,
   "id": "20f9318a-ad77-4313-9735-dc981ead5308",
   "metadata": {},
   "outputs": [],
   "source": [
    "# TODO: generate a series with integers\n",
    "\n",
    "pdst.series(dtype=int).example()"
   ]
  },
  {
   "cell_type": "code",
   "execution_count": null,
   "id": "bb0a7884-b086-425b-ab33-7fd936c9f493",
   "metadata": {},
   "outputs": [],
   "source": [
    "# TODO: generate a series with floats between -1 and 1\n",
    "\n",
    "pdst.series(dtype=np.float32, elements=st.floats(-1, 1, width=32)).example()"
   ]
  },
  {
   "cell_type": "code",
   "execution_count": null,
   "id": "0f4203e1-8d90-43cf-b209-466961c357c0",
   "metadata": {},
   "outputs": [],
   "source": [
    "# TODO: generate a series with only even numbers\n",
    "\n",
    "even_num = st.builds(lambda x: x*2, st.integers(min_value=0, max_value=126/2))\n",
    "pdst.series(dtype=np.int8, elements=even_num).example()"
   ]
  },
  {
   "cell_type": "code",
   "execution_count": null,
   "id": "7a9ad252-301b-4b30-8f24-88949d246fa6",
   "metadata": {},
   "outputs": [],
   "source": [
    "# TODO: generate a series with text with only English alphabets and at least 1 characters\n",
    "\n",
    "pdst.series(elements=st.from_regex(r\"[a-zA-Z]+\", fullmatch=True)).example()"
   ]
  },
  {
   "cell_type": "code",
   "execution_count": null,
   "id": "bd2bfc53-c860-4bb3-aad8-c80bdfdaa1f7",
   "metadata": {},
   "outputs": [],
   "source": [
    "# TODO: generate a series with index 0 to 9\n",
    "\n",
    "pdst.series(dtype=np.int8, index=pdst.range_indexes(min_size=10, max_size=10)).example()"
   ]
  },
  {
   "cell_type": "code",
   "execution_count": null,
   "id": "1bb5b040-ab1e-4818-ac80-4fe57cbf3133",
   "metadata": {},
   "outputs": [],
   "source": [
    "# TODO: generate a series with datetime index\n",
    "\n",
    "pdst.series(dtype=np.int8, index=pdst.indexes(dtype='datetime64[s]')).example()"
   ]
  },
  {
   "cell_type": "markdown",
   "id": "88d0147f-d569-4c07-b915-bc71674de225",
   "metadata": {},
   "source": [
    "Since now you know how to generate series, shall we look at `data_frames`? If we look at the documentation ([here](https://hypothesis.readthedocs.io/en/latest/numpy.html#hypothesis.extra.pandas.data_frames) if you prefer the html version):"
   ]
  },
  {
   "cell_type": "code",
   "execution_count": null,
   "id": "6b2c5037-91c3-4494-8ac6-7c90d13a757b",
   "metadata": {},
   "outputs": [],
   "source": [
    "?pdst.data_frames"
   ]
  },
  {
   "cell_type": "markdown",
   "id": "e6685e2e-d67c-43f5-987f-4d8b3cb252ef",
   "metadata": {},
   "source": [
    "It looks quite scary, however, it is not that complicated if you think of how you will construct a dataframe with pandas. There are two ways of approaching a dataframe, either looking at it column by column or row by row. So there are two major ways of doing it, generating by columns or rows. First, let's us look at generating by columns."
   ]
  },
  {
   "cell_type": "code",
   "execution_count": null,
   "id": "dc2f6718-803c-434c-84f1-a45b30ec75aa",
   "metadata": {},
   "outputs": [],
   "source": [
    "# TODO: generate a data frame which is for the test score of a class, there are two columns\n",
    "# Name - Name in ALL CAP. Allow text with only English alphabets and at least 1 characters\n",
    "# Score - full scaore is 100\n",
    "\n",
    "name = pdst.column(name='Name', elements=st.from_regex(r\"[A-Z]+\", fullmatch=True))\n",
    "score = pdst.column(name='Score', elements=st.integers(min_value=0, max_value=100))\n",
    "pdst.data_frames([name,score]).example()"
   ]
  },
  {
   "cell_type": "code",
   "execution_count": null,
   "id": "de1261cc-aded-4fef-99fa-0b54d761a745",
   "metadata": {},
   "outputs": [],
   "source": [
    "# TODO: now assume there is always 20 students in a class\n",
    "\n",
    "pdst.data_frames([name,score], index=pdst.range_indexes(min_size=20, max_size=20)).example()"
   ]
  },
  {
   "cell_type": "markdown",
   "id": "e5b640e5-ad95-4597-aa69-36882b2ce259",
   "metadata": {},
   "source": [
    "Most of the time, you would like to generate the data frame with columns, however, there maybe exceptional case that you would like to generate by rows - one of this situation is if there are correlations between different rows."
   ]
  },
  {
   "cell_type": "code",
   "execution_count": null,
   "id": "08c3b2bf-a4d0-4d31-8aff-bed7c5fb7ae1",
   "metadata": {},
   "outputs": [],
   "source": [
    "# TODO: now instead of score, we will have a column which show the length of the name instead\n",
    "# hint: we will use `st.builds`\n",
    "\n",
    "def count_name(name: str):\n",
    "    return (name, len(name))\n",
    "\n",
    "student = st.builds(count_name, st.from_regex(r\"[A-Z]+\", fullmatch=True))\n",
    "pdst.data_frames(rows=student, index=pdst.range_indexes(min_size=20, max_size=20)).example()"
   ]
  },
  {
   "cell_type": "markdown",
   "id": "b1943a7c-0314-4bf7-9956-95d2d712f751",
   "metadata": {},
   "source": [
    "Now you have learn how to generate a pandas data frame, we will leave the application of it in test to the final chapter - when we do the final project of testing a machine learning pipeline."
   ]
  }
 ],
 "metadata": {
  "kernelspec": {
   "display_name": "Python 3 (ipykernel)",
   "language": "python",
   "name": "python3"
  },
  "language_info": {
   "codemirror_mode": {
    "name": "ipython",
    "version": 3
   },
   "file_extension": ".py",
   "mimetype": "text/x-python",
   "name": "python",
   "nbconvert_exporter": "python",
   "pygments_lexer": "ipython3",
   "version": "3.11.1"
  }
 },
 "nbformat": 4,
 "nbformat_minor": 5
}
